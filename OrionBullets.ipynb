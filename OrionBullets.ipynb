{
 "metadata": {
  "name": "OrionBullets"
 },
 "nbformat": 3,
 "nbformat_minor": 0,
 "worksheets": [
  {
   "cells": [
    {
     "cell_type": "code",
     "collapsed": false,
     "input": [
      "import pyregion\n",
      "import astropy.coordinates as coord\n",
      "from astropy import units\n",
      "from astropy import constants as const"
     ],
     "language": "python",
     "metadata": {},
     "outputs": [],
     "prompt_number": 5
    },
    {
     "cell_type": "code",
     "collapsed": false,
     "input": [
      "regfile = pyregion.open('h2tips.reg')\n",
      "coordlist = [coord.ICRSCoordinates(*s.coord_list[:2],unit=(units.degree,units.degree)) for s in regfile]\n",
      "center = coordlist.pop(-1)\n",
      "BN = coordlist.pop(-1)\n",
      "distances = np.array([center.separation(c).arcsecs for c in coordlist[:-2]])"
     ],
     "language": "python",
     "metadata": {},
     "outputs": [
      {
       "output_type": "stream",
       "stream": "stdout",
       "text": [
        "WARNING: ConfigurationDefaultMissingWarning: Requested default configuration file /Users/adam/repos/astropy/astropy/astropy.cfg is not a file. Cannot install default profile. If you are importing from source, this is expected. [astropy]\n"
       ]
      }
     ],
     "prompt_number": 1
    },
    {
     "cell_type": "code",
     "collapsed": false,
     "input": [
      "clf()\n",
      "hist(distances*414/206265.,bins=20,color='b',alpha=0.5,histtype='step',edgecolor=(0,0,0,0.5),linewidth=4)\n",
      "#hist(array(distances_bn)*414/206265.,bins=20,color='r',alpha=0.5,histtype='stepfilled')\n",
      "xlabel(\"Distance (pc)\")\n",
      "ax = gca()\n",
      "ax2 = ax.twiny()\n",
      "ax2.set_xlim(ax.get_xlim())\n",
      "ax2.xaxis.set_major_formatter(mpl.ticker.FuncFormatter(lambda x,y: \"%i\" % (x*(3e18 / (500*86400*365) / 1e5))))\n",
      "ax2.set_xlabel('km/s (assuming $dt=500$ yr)')\n",
      "savefig(\"distances_histogram.png\")"
     ],
     "language": "python",
     "metadata": {},
     "outputs": [
      {
       "output_type": "display_data",
       "png": "[encoded data removed]",
       "text": [
        "<matplotlib.figure.Figure at 0x10677cc50>"
       ]
      }
     ],
     "prompt_number": 3
    },
    {
     "cell_type": "code",
     "collapsed": false,
     "input": [
      "# Define some constants\n",
      "temperature = 100 * units.Kelvin\n",
      "ambient_density = 1e4 * units.cm**-3\n",
      "star_mass = 10 * const.M_sun\n",
      "d_orion = 414 * const.pc\n",
      "bullet_angular_distance = median(distances)\n",
      "bullet_length = d_orion * (bullet_angular_distance / 206265.) \n",
      "bullet_velocity = 100 * units.km/units.s\n",
      "mu_h2 = 2.8 # atomic mass units per particle \n",
      "cs = ((2 * const.k_B * temperature / (mu_h2*const.m_p))**0.5).cgs\n",
      "mach_angle = (cs/bullet_velocity).decompose()\n",
      "print \"sound speed:\", cs\n",
      "print \"mach_angle:\", mach_angle.value"
     ],
     "language": "python",
     "metadata": {},
     "outputs": [
      {
       "output_type": "stream",
       "stream": "stdout",
       "text": [
        "sound speed: 76785.4119558 cm / (s)\n",
        "mach_angle: 0.00767854119558\n"
       ]
      }
     ],
     "prompt_number": 28
    },
    {
     "cell_type": "code",
     "collapsed": false,
     "input": [],
     "language": "python",
     "metadata": {},
     "outputs": [
      {
       "latex": [
        "$3.32411\\times 10^{+15} \\; \\mathrm{m}$"
       ],
       "output_type": "pyout",
       "prompt_number": 29,
       "text": [
        "<Quantity 3.32410562501e+15 m>"
       ]
      }
     ],
     "prompt_number": 29
    },
    {
     "cell_type": "code",
     "collapsed": false,
     "input": [
      "bullet_size = mach_angle * bullet_length\n",
      "bullet_size_as = bullet_angular_distance * mach_angle.value\n",
      "print \"bullet size: \",bullet_size.cgs\n",
      "print \"bullet size (as):\",bullet_size_as"
     ],
     "language": "python",
     "metadata": {},
     "outputs": [
      {
       "output_type": "stream",
       "stream": "stdout",
       "text": [
        "bullet size:  2.55242819801e+15 cm\n",
        "bullet size (as): 0.412124267875\n"
       ]
      }
     ],
     "prompt_number": 32
    },
    {
     "cell_type": "code",
     "collapsed": false,
     "input": [
      "swept_volume = 1/3. * bullet_size**2 * bullet_length\n",
      "print \"Swept-up volume: \",swept_volume.to(units.cm**3)"
     ],
     "language": "python",
     "metadata": {},
     "outputs": [
      {
       "output_type": "stream",
       "stream": "stdout",
       "text": [
        " Swept-up volume:  7.21872717265e+47 cm3\n"
       ]
      }
     ],
     "prompt_number": 42
    },
    {
     "cell_type": "code",
     "collapsed": false,
     "input": [
      "swept_mass = swept_volume * ambient_density * mu_h2 * const.m_p\n",
      "print \"Swept-up mass: \",swept_mass.to(units.g)\n",
      "print \"in M_earth: \",(swept_mass/const.M_earth).decompose()\n",
      "print \"in M_jup: \",(swept_mass/const.M_jup).decompose()"
     ],
     "language": "python",
     "metadata": {},
     "outputs": [
      {
       "output_type": "stream",
       "stream": "stdout",
       "text": [
        " Swept-up mass:  3.38077607594e+28 g\n",
        "in M_earth:  5.65896032261 \n",
        "in M_jup:  0.0178057411699 \n"
       ]
      }
     ],
     "prompt_number": 53
    },
    {
     "cell_type": "code",
     "collapsed": false,
     "input": [
      "bullet_min_density = swept_mass / (4/3.*pi*bullet_size**3)\n",
      "print \"Bullet minimum density: \",bullet_min_density.to(units.g*units.cm**-3)\n",
      "print \"Bullet minimum volume density: \",(bullet_min_density/const.m_p).to(units.cm**-3)\n",
      "print \"                           ~10^\",np.log10((bullet_min_density/const.m_p).to(units.cm**-3).value)"
     ],
     "language": "python",
     "metadata": {},
     "outputs": [
      {
       "output_type": "stream",
       "stream": "stdout",
       "text": [
        "Bullet minimum density:  4.85363591512e-19 g / (cm3)\n",
        "Bullet minimum volume density:  290181.317848 1 / (cm3)\n",
        "                           ~10^ 5.46266944871\n"
       ]
      }
     ],
     "prompt_number": 64
    },
    {
     "cell_type": "code",
     "collapsed": false,
     "input": [
      "bullet_min_coldens = bullet_min_density * bullet_size*2\n",
      "print \"Bullet minimum column density: \",bullet_min_coldens.cgs\n",
      "print \" in number/cm^2: \",(bullet_min_coldens / const.m_p).cgs"
     ],
     "language": "python",
     "metadata": {},
     "outputs": [
      {
       "output_type": "stream",
       "stream": "stdout",
       "text": [
        "Bullet minimum column density:  "
       ]
      },
      {
       "output_type": "stream",
       "stream": "stdout",
       "text": [
        "0.00247771143452 g / (cm2)\n",
        " in number/cm^2:  1.48133395642e+21 1 / (cm2)\n"
       ]
      }
     ],
     "prompt_number": 71
    },
    {
     "cell_type": "code",
     "collapsed": false,
     "input": [],
     "language": "python",
     "metadata": {},
     "outputs": []
    }
   ],
   "metadata": {}
  }
 ]
}